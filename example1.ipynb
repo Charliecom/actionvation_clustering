{
 "cells": [
  {
   "cell_type": "code",
   "execution_count": 30,
   "metadata": {},
   "outputs": [],
   "source": [
    "import tensorflow as tf\n",
    "\n",
    "tf.compat.v1.disable_eager_execution()\n",
    "from keras.models import Sequential\n",
    "from keras.layers import Dense, Flatten, Conv2D, MaxPooling2D, Dropout\n",
    "\n",
    "\n",
    "from art.attacks.poisoning.perturbations.image_perturbations import add_pattern_bd\n",
    "from art.estimators.classification import KerasClassifier\n",
    "from art.utils import load_mnist, preprocess\n",
    "from art.defences.detector.poison import ActivationDefence\n",
    "\n",
    "import numpy as np\n",
    "import matplotlib.pyplot as pyplot\n",
    "import json as js\n",
    "\n",
    "POIZON_PERCENT = 0.10\n",
    "DATASET_SIZE = 5000\n"
   ]
  },
  {
   "cell_type": "code",
   "execution_count": 31,
   "metadata": {},
   "outputs": [],
   "source": [
    "def get_dataset(size):\n",
    "    (data, labels), (data_test, labels_test), mn, mx = load_mnist(raw=True)\n",
    "    orig_size = np.shape(data)[0]\n",
    "    rnd_indixeses = np.random.choice(orig_size, size)\n",
    "    data = data[rnd_indixeses]\n",
    "    labels = labels[rnd_indixeses]\n",
    "    return data, labels, data_test, labels_test, mn, mx\n",
    "\n",
    "\n",
    "def poizon_data(data, labels, perc, sources=np.array([0, 1, 2, 3, 4, 5, 6, 7, 8, 9]), targets=np.array([1, 2, 3, 4, 5, 6, 7, 8, 9, 0])):\n",
    "\n",
    "    pois_data = np.copy(data)\n",
    "    pois_labels = np.copy(labels)\n",
    "    mask_poison = np.zeros(np.shape(pois_labels))\n",
    "\n",
    "    for (source, target) in zip(sources, targets):\n",
    "        num_images_to_pois = round((perc * np.shape(data[labels == target])[0]) / (1 - perc)) \n",
    "\n",
    "        source_images = data[labels == source]\n",
    "        num_images_in_source = np.shape(source_images)[0]\n",
    "        indices_to_be_poisoned = np.random.choice(num_images_in_source, num_images_to_pois)\n",
    "\n",
    "        imgs_to_be_poisoned = np.copy(source_images[indices_to_be_poisoned])\n",
    "        imgs_to_be_poisoned = add_pattern_bd(x=imgs_to_be_poisoned, pixel_value=np.max(data))\n",
    "\n",
    "        pois_data = np.append(pois_data, imgs_to_be_poisoned, axis=0)\n",
    "        pois_labels = np.append(pois_labels, np.full(num_images_to_pois, target), axis=0)\n",
    "\n",
    "        mask_poison = np.append(mask_poison, np.ones(num_images_to_pois))\n",
    "\n",
    "    mask_poison = mask_poison != 0\n",
    "\n",
    "    n_train = np.shape(pois_labels)[0]\n",
    "    shuffled_indices = np.arange(n_train)\n",
    "    np.random.shuffle(shuffled_indices)\n",
    "    pois_data = pois_data[shuffled_indices]\n",
    "    pois_labels = pois_labels[shuffled_indices]\n",
    "    mask_poison = mask_poison[shuffled_indices]\n",
    "\n",
    "    return mask_poison, pois_data, pois_labels\n",
    "\n",
    "\n",
    "def preprocess_data(data, labels):\n",
    "    pre_data, pre_labels = preprocess(data, labels)\n",
    "    pre_data = np.expand_dims(pre_data, axis=3)\n",
    "    return pre_data, pre_labels\n",
    "\n",
    "def show_data(narr):\n",
    "    num_images = len(narr)\n",
    "\n",
    "    rows = int(np.ceil(np.sqrt(num_images)))\n",
    "    cols = int(np.ceil(num_images / rows))\n",
    "\n",
    "    fig = pyplot.figure(figsize=(6, 6))\n",
    "\n",
    "    for i in range(num_images):\n",
    "        ax = fig.add_subplot(rows, cols, i + 1)\n",
    "        ax.imshow(narr[i], cmap='gray')\n",
    "        ax.axis('off')\n",
    "\n",
    "    pyplot.show()\n",
    "\n",
    "def get_model(input_data):\n",
    "    model = Sequential()\n",
    "    model.add(Conv2D(32, kernel_size=(3, 3), activation=\"relu\", input_shape=input_data.shape[1:]))\n",
    "    model.add(Conv2D(64, (3, 3), activation=\"relu\"))\n",
    "    model.add(MaxPooling2D(pool_size=(2, 2)))\n",
    "    model.add(Dropout(0.25))\n",
    "    model.add(Flatten())\n",
    "    model.add(Dense(128, activation=\"relu\"))\n",
    "    model.add(Dropout(0.5))\n",
    "    model.add(Dense(10, activation=\"softmax\"))\n",
    "    model.compile(loss=\"categorical_crossentropy\", optimizer=\"adam\", metrics=[\"accuracy\"])\n",
    "    return model\n",
    "\n",
    "def eval_classifier_on_data(classifier, preprocessed_data, preprocessed_labels):\n",
    "    predictions_of_classifier = np.argmax(classifier.predict(preprocessed_data), axis=1)\n",
    "    accuracy = np.sum(predictions_of_classifier == np.argmax(preprocessed_labels, axis=1)) / preprocessed_data.shape[0]\n",
    "    return accuracy\n"
   ]
  },
  {
   "cell_type": "code",
   "execution_count": 32,
   "metadata": {},
   "outputs": [],
   "source": [
    "data, labels, data_test, labels_test, mn, mx = get_dataset(DATASET_SIZE)\n",
    "\n",
    "map_poison, poiz_data, poiz_labels = poizon_data(data, labels, POIZON_PERCENT)\n",
    "map_poison_test, poiz_data_test, poiz_labels_test = poizon_data(data_test, labels_test, 0.50)\n",
    "\n",
    "# map_poison, poiz_data, poiz_labels = poizon_data(data, labels, POIZON_PERCENT, np.array([9, 2]), np.array([1, 4]))\n",
    "# map_poison_test, poiz_data_test, poiz_labels_test = poizon_data(data_test, labels_test, 0.50, np.array([9, 2]), np.array([1, 4]))\n",
    "\n",
    "p_poiz_data, p_poiz_labels = preprocess_data(poiz_data, poiz_labels)\n",
    "p_poiz_data_test, p_poiz_labels_test = preprocess_data(poiz_data_test, poiz_labels_test)\n"
   ]
  },
  {
   "cell_type": "code",
   "execution_count": 33,
   "metadata": {},
   "outputs": [
    {
     "data": {
      "image/png": "[encoded data removed]",
      "text/plain": [
       "<Figure size 640x480 with 9 Axes>"
      ]
     },
     "metadata": {},
     "output_type": "display_data"
    }
   ],
   "source": [
    "for i in range(9):\n",
    "    pyplot.subplot(330 + 1 + i)\n",
    "    pyplot.imshow(poiz_data[i], cmap=pyplot.get_cmap('gray'))\n",
    "    pyplot.title(\"Label: {}\".format(int(poiz_labels[i])))  \n",
    "    pyplot.axis('off')  \n",
    "pyplot.tight_layout()\n",
    "pyplot.show()"
   ]
  },
  {
   "cell_type": "code",
   "execution_count": 34,
   "metadata": {},
   "outputs": [
    {
     "name": "stdout",
     "output_type": "stream",
     "text": [
      "Train on 5555 samples\n",
      "Epoch 1/20\n",
      "5555/5555 [==============================] - 5s 865us/sample - loss: 1.2756 - accuracy: 0.6236\n",
      "Epoch 2/20\n",
      "5555/5555 [==============================] - 5s 852us/sample - loss: 0.6348 - accuracy: 0.8067\n",
      "Epoch 3/20\n",
      "5555/5555 [==============================] - 5s 835us/sample - loss: 0.3809 - accuracy: 0.8677\n",
      "Epoch 4/20\n",
      "5555/5555 [==============================] - 5s 812us/sample - loss: 0.2947 - accuracy: 0.8950\n",
      "Epoch 5/20\n",
      "5555/5555 [==============================] - 5s 816us/sample - loss: 0.2433 - accuracy: 0.9140\n",
      "Epoch 6/20\n",
      "5555/5555 [==============================] - 5s 816us/sample - loss: 0.2010 - accuracy: 0.9359\n",
      "Epoch 7/20\n",
      "5555/5555 [==============================] - 4s 789us/sample - loss: 0.1697 - accuracy: 0.9451\n",
      "Epoch 8/20\n",
      "5555/5555 [==============================] - 4s 780us/sample - loss: 0.1351 - accuracy: 0.9557\n",
      "Epoch 9/20\n",
      "5555/5555 [==============================] - 4s 784us/sample - loss: 0.1186 - accuracy: 0.9620\n",
      "Epoch 10/20\n",
      "5555/5555 [==============================] - 4s 782us/sample - loss: 0.1050 - accuracy: 0.9692\n",
      "Epoch 11/20\n",
      "5555/5555 [==============================] - 4s 779us/sample - loss: 0.1048 - accuracy: 0.9707\n",
      "Epoch 12/20\n",
      "5555/5555 [==============================] - 4s 776us/sample - loss: 0.0935 - accuracy: 0.9701\n",
      "Epoch 13/20\n",
      "5555/5555 [==============================] - 4s 798us/sample - loss: 0.0809 - accuracy: 0.9725\n",
      "Epoch 14/20\n",
      "5555/5555 [==============================] - 5s 818us/sample - loss: 0.0847 - accuracy: 0.9719\n",
      "Epoch 15/20\n",
      "5555/5555 [==============================] - 4s 795us/sample - loss: 0.0835 - accuracy: 0.9723\n",
      "Epoch 16/20\n",
      "5555/5555 [==============================] - 4s 805us/sample - loss: 0.0706 - accuracy: 0.9750\n",
      "Epoch 17/20\n",
      "5555/5555 [==============================] - 5s 816us/sample - loss: 0.0646 - accuracy: 0.9797\n",
      "Epoch 18/20\n",
      "5555/5555 [==============================] - 5s 850us/sample - loss: 0.0647 - accuracy: 0.9806\n",
      "Epoch 19/20\n",
      "5555/5555 [==============================] - 5s 859us/sample - loss: 0.0612 - accuracy: 0.9791\n",
      "Epoch 20/20\n",
      "5555/5555 [==============================] - 4s 808us/sample - loss: 0.0566 - accuracy: 0.9815\n"
     ]
    }
   ],
   "source": [
    "model = get_model(p_poiz_data)\n",
    "\n",
    "classifier = KerasClassifier(model=model, clip_values=(mn, mx))\n",
    "\n",
    "classifier.fit(p_poiz_data, p_poiz_labels, nb_epochs=20, batch_size=128)\n"
   ]
  },
  {
   "cell_type": "code",
   "execution_count": 35,
   "metadata": {},
   "outputs": [
    {
     "name": "stdout",
     "output_type": "stream",
     "text": [
      "\n",
      "Точность на отправленных данных: 93.32000000000001%\n",
      "\n",
      "Точность на чистых данных: 97.69%\n"
     ]
    }
   ],
   "source": [
    "acc_poiz = eval_classifier_on_data(classifier, p_poiz_data_test[map_poison_test], p_poiz_labels_test[map_poison_test])\n",
    "print(f\"\\nТочность на отправленных данных: {acc_poiz * 100}%\")\n",
    "\n",
    "acc_clean = eval_classifier_on_data(classifier, p_poiz_data_test[map_poison_test == 0], p_poiz_labels_test[map_poison_test == 0])\n",
    "print(f\"\\nТочность на чистых данных: {acc_clean * 100}%\", )"
   ]
  },
  {
   "cell_type": "code",
   "execution_count": 36,
   "metadata": {},
   "outputs": [
    {
     "data": {
      "image/png": "[encoded data removed]",
      "text/plain": [
       "<Figure size 1000x600 with 1 Axes>"
      ]
     },
     "metadata": {},
     "output_type": "display_data"
    }
   ],
   "source": [
    "defence = ActivationDefence(classifier, p_poiz_data, p_poiz_labels)\n",
    "_, report = defence.detect_poison()\n",
    "\n",
    "is_clean = map_poison == 0\n",
    "\n",
    "confusion_matrix = defence.evaluate_defence(is_clean)\n",
    "\n",
    "# код для отображения confusion_matrix\n",
    "# import pprint\n",
    "# jsonObject = js.loads(confusion_matrix)\n",
    "# for label in jsonObject:\n",
    "#     print(label)\n",
    "#     pprint.pprint(jsonObject[label])\n",
    "\n",
    "data = js.loads(confusion_matrix)\n",
    "\n",
    "classes = []\n",
    "false_negative = []\n",
    "false_positive = []\n",
    "true_negative = []\n",
    "true_positive = []\n",
    "\n",
    "for class_name, class_data in data.items():\n",
    "    classes.append(class_name)\n",
    "    fn_rate = class_data['FalseNegative']['rate']\n",
    "    fp_rate = class_data['FalsePositive']['rate']\n",
    "    tn_rate = class_data['TrueNegative']['rate']\n",
    "    tp_rate = class_data['TruePositive']['rate']\n",
    "    fn_rate = str(fn_rate) if fn_rate != 'N/A' else '0.0'\n",
    "    fp_rate = str(fp_rate) if fp_rate != 'N/A' else '0.0'\n",
    "    tn_rate = str(tn_rate) if tn_rate != 'N/A' else '0.0'\n",
    "    tp_rate = str(tp_rate) if tp_rate != 'N/A' else '0.0'\n",
    "    false_negative.append(float(fn_rate))  # Convert to float for plotting\n",
    "    false_positive.append(float(fp_rate))\n",
    "    true_negative.append(float(tn_rate))\n",
    "    true_positive.append(float(tp_rate))\n",
    "\n",
    "fig, ax = pyplot.subplots(figsize=(10, 6))\n",
    "\n",
    "bar_width = 0.35\n",
    "index = list(range(len(classes)))\n",
    "\n",
    "pyplot.bar(index, false_negative, bar_width, label='False Negative')\n",
    "pyplot.bar(index, false_positive, bar_width, label='False Positive', bottom=false_negative)\n",
    "pyplot.bar(index, true_negative, bar_width, label='True Negative', bottom=[i+j for i,j in zip(false_negative, false_positive)])\n",
    "pyplot.bar(index, true_positive, bar_width, label='True Positive', bottom=[i+j+k for i,j,k in zip(false_negative, false_positive, true_negative)])\n",
    "\n",
    "pyplot.xlabel('Classes')\n",
    "pyplot.ylabel('Rates')\n",
    "pyplot.title('Confusion Matrix')\n",
    "pyplot.xticks(index, classes)\n",
    "pyplot.legend()\n",
    "\n",
    "pyplot.tight_layout()\n",
    "pyplot.show()\n",
    "\n",
    "\n"
   ]
  },
  {
   "cell_type": "code",
   "execution_count": 37,
   "metadata": {},
   "outputs": [],
   "source": [
    "# удалить детектированные отравленые данные\n",
    "\n",
    "report = np.array(report) # np.array который являеться диагностированной маской отравления (1 - если данные чистые, 0 - если данные отравлены)\n",
    "new_data = poiz_data[report != 0]\n",
    "new_labels = poiz_labels[report != 0]\n",
    "new_map_poizon = map_poison[report != 0]\n",
    "p_new_data, p_new_labels = preprocess_data(new_data, new_labels)\n",
    "\n"
   ]
  },
  {
   "cell_type": "code",
   "execution_count": 38,
   "metadata": {},
   "outputs": [
    {
     "name": "stdout",
     "output_type": "stream",
     "text": [
      "Train on 4824 samples\n",
      "Epoch 1/20\n",
      "4824/4824 [==============================] - 4s 858us/sample - loss: 0.9322 - accuracy: 0.6980\n",
      "Epoch 2/20\n",
      "4824/4824 [==============================] - 4s 786us/sample - loss: 0.3415 - accuracy: 0.9009\n",
      "Epoch 3/20\n",
      "4824/4824 [==============================] - 4s 790us/sample - loss: 0.2153 - accuracy: 0.9372\n",
      "Epoch 4/20\n",
      "4824/4824 [==============================] - 4s 777us/sample - loss: 0.1688 - accuracy: 0.9463\n",
      "Epoch 5/20\n",
      "4824/4824 [==============================] - 4s 777us/sample - loss: 0.1216 - accuracy: 0.9660\n",
      "Epoch 6/20\n",
      "4824/4824 [==============================] - 4s 795us/sample - loss: 0.0919 - accuracy: 0.9714\n",
      "Epoch 7/20\n",
      "4824/4824 [==============================] - 4s 786us/sample - loss: 0.0744 - accuracy: 0.9751\n",
      "Epoch 8/20\n",
      "4824/4824 [==============================] - 4s 781us/sample - loss: 0.0699 - accuracy: 0.9760\n",
      "Epoch 9/20\n",
      "4824/4824 [==============================] - 4s 790us/sample - loss: 0.0582 - accuracy: 0.9830\n",
      "Epoch 10/20\n",
      "4824/4824 [==============================] - 4s 775us/sample - loss: 0.0524 - accuracy: 0.9820\n",
      "Epoch 11/20\n",
      "4824/4824 [==============================] - 4s 781us/sample - loss: 0.0576 - accuracy: 0.9807\n",
      "Epoch 12/20\n",
      "4824/4824 [==============================] - 4s 780us/sample - loss: 0.0381 - accuracy: 0.9876\n",
      "Epoch 13/20\n",
      "4824/4824 [==============================] - 4s 782us/sample - loss: 0.0368 - accuracy: 0.9886\n",
      "Epoch 14/20\n",
      "4824/4824 [==============================] - 4s 773us/sample - loss: 0.0297 - accuracy: 0.9921\n",
      "Epoch 15/20\n",
      "4824/4824 [==============================] - 4s 783us/sample - loss: 0.0273 - accuracy: 0.9919\n",
      "Epoch 16/20\n",
      "4824/4824 [==============================] - 4s 785us/sample - loss: 0.0240 - accuracy: 0.9919\n",
      "Epoch 17/20\n",
      "4824/4824 [==============================] - 4s 780us/sample - loss: 0.0238 - accuracy: 0.9925\n",
      "Epoch 18/20\n",
      "4824/4824 [==============================] - 4s 771us/sample - loss: 0.0254 - accuracy: 0.9907\n",
      "Epoch 19/20\n",
      "4824/4824 [==============================] - 4s 785us/sample - loss: 0.0293 - accuracy: 0.9888\n",
      "Epoch 20/20\n",
      "4824/4824 [==============================] - 4s 796us/sample - loss: 0.0219 - accuracy: 0.9934\n"
     ]
    }
   ],
   "source": [
    "model = get_model(p_new_data)\n",
    "\n",
    "classifier = KerasClassifier(model=model, clip_values=(mn, mx))\n",
    "\n",
    "classifier.fit(p_new_data, p_new_labels, nb_epochs=20, batch_size=128)"
   ]
  },
  {
   "cell_type": "code",
   "execution_count": 39,
   "metadata": {},
   "outputs": [
    {
     "name": "stderr",
     "output_type": "stream",
     "text": [
      "c:\\Users\\cchar\\AppData\\Local\\Programs\\Python\\Python311\\Lib\\site-packages\\keras\\src\\engine\\training_v1.py:2359: UserWarning: `Model.state_updates` will be removed in a future version. This property should not be used in TensorFlow 2.0, as `updates` are applied automatically.\n",
      "  updates=self.state_updates,\n"
     ]
    },
    {
     "name": "stdout",
     "output_type": "stream",
     "text": [
      "\n",
      "Точность на отправленных данных: 0.32%\n",
      "\n",
      "Точность на чистых данных: 96.95%\n"
     ]
    }
   ],
   "source": [
    "acc_poiz = eval_classifier_on_data(classifier, p_poiz_data_test[map_poison_test], p_poiz_labels_test[map_poison_test])\n",
    "print(f\"\\nТочность на отправленных данных: {acc_poiz * 100}%\")\n",
    "\n",
    "acc_clean = eval_classifier_on_data(classifier, p_poiz_data_test[map_poison_test == 0], p_poiz_labels_test[map_poison_test == 0])\n",
    "print(f\"\\nТочность на чистых данных: {acc_clean * 100}%\", )"
   ]
  },
  {
   "cell_type": "code",
   "execution_count": null,
   "metadata": {},
   "outputs": [],
   "source": []
  }
 ],
 "metadata": {
  "kernelspec": {
   "display_name": "Python 3",
   "language": "python",
   "name": "python3"
  },
  "language_info": {
   "codemirror_mode": {
    "name": "ipython",
    "version": 3
   },
   "file_extension": ".py",
   "mimetype": "text/x-python",
   "name": "python",
   "nbconvert_exporter": "python",
   "pygments_lexer": "ipython3",
   "version": "3.11.3"
  }
 },
 "nbformat": 4,
 "nbformat_minor": 2
}
